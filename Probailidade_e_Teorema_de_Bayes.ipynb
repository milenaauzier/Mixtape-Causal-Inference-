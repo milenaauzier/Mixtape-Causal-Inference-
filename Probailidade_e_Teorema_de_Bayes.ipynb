{
  "nbformat": 4,
  "nbformat_minor": 0,
  "metadata": {
    "colab": {
      "provenance": [],
      "authorship_tag": "ABX9TyP1VLg3CHmY1WY30RMiRrzo",
      "include_colab_link": true
    },
    "kernelspec": {
      "name": "python3",
      "display_name": "Python 3"
    },
    "language_info": {
      "name": "python"
    }
  },
  "cells": [
    {
      "cell_type": "markdown",
      "metadata": {
        "id": "view-in-github",
        "colab_type": "text"
      },
      "source": [
        "<a href=\"https://colab.research.google.com/github/milenaauzier/Mixtape-Causal-Inference-/blob/main/Probailidade_e_Teorema_de_Bayes.ipynb\" target=\"_parent\"><img src=\"https://colab.research.google.com/assets/colab-badge.svg\" alt=\"Open In Colab\"/></a>"
      ]
    },
    {
      "cell_type": "markdown",
      "source": [
        "#**Eventos dependentes e independetes**\n",
        "\n",
        "**Eventos Dependentes:** Os eventos dependentes são eventos nos quais o resultado de um evento afeta o resultado de outro evento.\n",
        "\n",
        "**Eventos indepentes:**\n",
        "Os eventos independentes são eventos nos quais saber o resultado de um deles não nos dá qualquer informação sobre o possível resultado do segundo. \n",
        "\n",
        "Para eventos independentes, a probabilidade de dois eventos acontecerem é igual a probabilidade de um multiplicada pela probabilidade do outro. \n",
        "\n",
        "Por exemplo: imagine que você está jogando duas moedas. Cada moeda é jogada separadamente, sem influência uma na outra. O resultado de cada moeda (cara ou coroa) é um evento independente. \n",
        "\n",
        "Para eventos independentes, a probailidade de dois eventos acontecerem é igual a probabilidade de um multilplicada pela probabilidade do outro. \n",
        "\n",
        "sendo P(A) a probabilidade do eventos A, P(B) a probabilidade do eventos B e \n",
        "P(A,B) a probabilidade de ocorrerem os eventos A e B:\n",
        "\n",
        "P(A,B) = P(A) x P(B) "
      ],
      "metadata": {
        "id": "TqQzCRp7RWfC"
      }
    },
    {
      "cell_type": "code",
      "source": [
        "probability_of_6 = 1/6\n",
        "# Probabilidade de rolar dois 6 em dois dados\n",
        "print(probability_of_6 * probability_of_6)\n",
        "0.027777777777777776"
      ],
      "metadata": {
        "colab": {
          "base_uri": "https://localhost:8080/"
        },
        "id": "OTUNqaNfZ3fH",
        "outputId": "56edf7c3-8443-4d86-a5b7-17cd4cf977bf"
      },
      "execution_count": 22,
      "outputs": [
        {
          "output_type": "stream",
          "name": "stdout",
          "text": [
            "0.027777777777777776\n"
          ]
        },
        {
          "output_type": "execute_result",
          "data": {
            "text/plain": [
              "0.027777777777777776"
            ]
          },
          "metadata": {},
          "execution_count": 22
        }
      ]
    },
    {
      "cell_type": "code",
      "source": [
        "#Exemplo de lançamento de moedas\n",
        "\n",
        "import random\n",
        "\n",
        "def flip_coin_independent():\n",
        "    return random.choice(['cara', 'coroa'])\n",
        "\n",
        "def flip_coin_dependent(previous_result):\n",
        "    if previous_result == 'cara':\n",
        "        return 'coroa'\n",
        "    else:\n",
        "        return 'cara'\n",
        "\n",
        "# Lançamentos independentes\n",
        "results_independent = [flip_coin_independent() for _ in range(1)]\n",
        "print(\"Resultados independentes:\", results_independent)\n",
        "\n",
        "# Lançamentos dependentes\n",
        "previous_result = 'cara'\n",
        "results_dependent = [previous_result]\n",
        "\n",
        "for i in range(1,2):\n",
        "    previous_result = flip_coin_dependent(previous_result)\n",
        "    results_dependent.append(previous_result)\n",
        "\n",
        "print(\"Resultados dependentes:\", results_dependent)\n"
      ],
      "metadata": {
        "colab": {
          "base_uri": "https://localhost:8080/"
        },
        "id": "-H0hfmVrZidt",
        "outputId": "a9185794-d05d-4f64-b5a4-5857b26cb237"
      },
      "execution_count": 23,
      "outputs": [
        {
          "output_type": "stream",
          "name": "stdout",
          "text": [
            "Resultados independentes: ['coroa']\n",
            "Resultados dependentes: ['cara', 'coroa']\n"
          ]
        }
      ]
    },
    {
      "cell_type": "markdown",
      "source": [
        "**Exemplo Capitulo 2. Revisão de Probabilidade e Regressão**\n",
        "\n",
        "**Probabilidade Condicional**\n",
        "\n",
        "Probabilidade de que os Longhorns sejam convidados para um grande jogo \n",
        "**Pr(A) = 0.6** \n",
        "\n",
        "Probabilidade de que o seu treinador seja recontratado\n",
        "**Pr(B) = 0.8**\n",
        "\n",
        "Probabilidade de que ambos A e B ocorra \n",
        "**Pr (A,B) = 0.5** "
      ],
      "metadata": {
        "id": "WWqfldz1ak2F"
      }
    },
    {
      "cell_type": "markdown",
      "source": [],
      "metadata": {
        "id": "RJKgefCWatb7"
      }
    },
    {
      "cell_type": "code",
      "source": [
        "prob_a = 0.6\n",
        "prob_b = 0.8 \n",
        "prob_ab = 0.5\n",
        "prob_b_na = 0.75\n",
        "prob_na = 0.4"
      ],
      "metadata": {
        "id": "pzc21BqKaIzn"
      },
      "execution_count": 37,
      "outputs": []
    },
    {
      "cell_type": "code",
      "source": [
        "pr_b_a = round(prob_ab/prob_a,2)\n",
        "print(\"A Probabilidade de ocorrer o evento A é:\", pr_b_a)"
      ],
      "metadata": {
        "colab": {
          "base_uri": "https://localhost:8080/"
        },
        "id": "uRFczeN5be3U",
        "outputId": "b2e98a20-2780-4092-b54e-387b90cf10d6"
      },
      "execution_count": 31,
      "outputs": [
        {
          "output_type": "stream",
          "name": "stdout",
          "text": [
            "Probabilidade de ocorrer o evento A é: 0.83\n"
          ]
        }
      ]
    },
    {
      "cell_type": "code",
      "source": [
        "pr_a_b = round(prob_ab/prob_b,2)\n",
        "print(\"A Probabilidade de ocorrer o evento B é:\", pr_a_b)\n"
      ],
      "metadata": {
        "colab": {
          "base_uri": "https://localhost:8080/"
        },
        "id": "xZLt10Mnc87T",
        "outputId": "a4e0a4d8-db6d-4e74-adf4-d6d49d5bfed2"
      },
      "execution_count": 33,
      "outputs": [
        {
          "output_type": "stream",
          "name": "stdout",
          "text": [
            "A Probabilidade de ocorrer o evento B é: 0.62\n"
          ]
        }
      ]
    },
    {
      "cell_type": "markdown",
      "source": [
        "**Teorema de Bayes**\n",
        "\n",
        "É uma ferramenta matemática que permite calcular a probabilidade condicional de um evento dado que outro evento ocorreu. É uma equação que relaciona a probabilidade a priori de um evento com a probabilidade condicional de esse evento dado outro evento.\n",
        "\n",
        " forma geral do teorema de Bayes é dada por:\n",
        "\n",
        "P(A | B) = P(B | A) * P(A) / P(B)\n",
        "\n",
        "onde:\n",
        "\n",
        "P(A | B) é a probabilidade de A dado B;\n",
        "P(B | A) é a probabilidade de B dado A;\n",
        "P(A) é a probabilidade a priori de A;\n",
        "P(B) é a probabilidade a priori de B.\n",
        "\n",
        "![Teorema-de-Bayes.png](data:image/png;base64,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)"
      ],
      "metadata": {
        "id": "JBDDqq32fVn-"
      }
    },
    {
      "cell_type": "code",
      "source": [
        "# aplicação do exemplo do livro \n",
        "\n",
        "Prob_ab = (pr_b_a * prob_a) / ((pr_b_a * prob_a) + (prob_b_na * prob_na))\n",
        "print(\"O resultado do exemplo aplicando o teorema de Bayes é\", Prob_ab)"
      ],
      "metadata": {
        "colab": {
          "base_uri": "https://localhost:8080/"
        },
        "id": "hhHWPotafYxc",
        "outputId": "b74456ed-0194-4e96-ca9b-683fb9ea06f7"
      },
      "execution_count": 46,
      "outputs": [
        {
          "output_type": "stream",
          "name": "stdout",
          "text": [
            "O resultado do exemplo aplicando o teorema de Bayes é 0.6240601503759398\n"
          ]
        }
      ]
    }
  ]
}